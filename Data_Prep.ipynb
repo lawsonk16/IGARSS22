{
  "nbformat": 4,
  "nbformat_minor": 0,
  "metadata": {
    "colab": {
      "name": "Data Prep.ipynb",
      "provenance": [],
      "mount_file_id": "1UG0BEka3zdLdVoZGfg1IS0XoMLXP95jd",
      "authorship_tag": "ABX9TyPrhNcV8zYk7nHxO0pRR5+W",
      "include_colab_link": true
    },
    "kernelspec": {
      "name": "python3",
      "display_name": "Python 3"
    },
    "language_info": {
      "name": "python"
    }
  },
  "cells": [
    {
      "cell_type": "markdown",
      "metadata": {
        "id": "view-in-github",
        "colab_type": "text"
      },
      "source": [
        "<a href=\"https://colab.research.google.com/github/lawsonk16/IGARSS22/blob/main/Data_Prep.ipynb\" target=\"_parent\"><img src=\"https://colab.research.google.com/assets/colab-badge.svg\" alt=\"Open In Colab\"/></a>"
      ]
    },
    {
      "cell_type": "code",
      "metadata": {
        "id": "y6i6Vx-8o0YI"
      },
      "source": [
        "import sys\n",
        "import os\n",
        "sys.path.append('/content/drive/MyDrive/Colab Notebooks/scripts/')\n",
        "from simclr import *"
      ],
      "execution_count": null,
      "outputs": []
    },
    {
      "cell_type": "code",
      "metadata": {
        "id": "nPh-xbLio4oq"
      },
      "source": [
        "from tqdm import tqdm\n",
        "import shutil\n",
        "import numpy as np\n",
        "from collections import Counter\n",
        "\n",
        "def semi_train_val_test(base_folder, new_folder, val_p = 20, test_p = 20, max_samples = 1000000000):\n",
        "    '''\n",
        "    IN:\n",
        "      - base_folder: folder of images with folder names corresponding to class names\n",
        "      - new_folder: folder where train and test split will be placed\n",
        "      - test_p: percentage as integer that should be placed in the test folder\n",
        "      - max_samples: integer value for the max samples per class. If a class has\n",
        "                     more examples than this, a random selection up to this number\n",
        "                     will be used\n",
        "    OUT: no variables returned, creates train and test folder in new_folder, \n",
        "         with image chips renamed to include the class name for use in \n",
        "         semi-supervised learning\n",
        "    '''\n",
        "\n",
        "    # create new data folder with train and test sub-folders\n",
        "    if not os.path.exists(new_folder):\n",
        "        os.mkdir(new_folder)\n",
        "\n",
        "    train_folder = new_folder + 'train/'\n",
        "    val_folder = new_folder + 'val/'\n",
        "    test_folder = new_folder + 'test/'\n",
        "\n",
        "    if not os.path.exists(test_folder):\n",
        "        os.mkdir(train_folder)\n",
        "        os.mkdir(test_folder)\n",
        "        os.mkdir(val_folder)\n",
        "    \n",
        "    # get list of class names\n",
        "    cls_fs = os.listdir(base_folder)\n",
        "\n",
        "    # process on a class by class basis \n",
        "    for cls_fp in tqdm(cls_fs):\n",
        "\n",
        "        # get a list of images within this class, shuffle them\n",
        "        fp = base_folder + cls_fp + '/'\n",
        "        images = os.listdir(fp)\n",
        "        num_samples = len(images)\n",
        "        np.random.shuffle(images)\n",
        "\n",
        "        # split using the percentage\n",
        "        if num_samples < max_samples:\n",
        "            test_index = int((num_samples)*(test_p)/100)\n",
        "            val_index = int((num_samples)*(val_p)/100) + test_index\n",
        "            test_samples = images[:test_index]\n",
        "            val_samples = images[test_index:val_index]\n",
        "            train_samples = images[val_index:]\n",
        "\n",
        "        # unless the class is too big\n",
        "        else:\n",
        "            print(cls_fp)\n",
        "            test_index = int(max_samples*(test_p)/100)\n",
        "            val_index = int((max_samples)*(val_p)/100) + test_index\n",
        "            test_samples = images[:test_index]\n",
        "            val_samples = images[test_index:val_index]\n",
        "            train_samples = images[val_index:max_samples]\n",
        "        \n",
        "        # Move the selected images to the correct new folders\n",
        "        for t in test_samples:\n",
        "            src = fp + t\n",
        "            dst = test_folder + f'{cls_fp}_{t}'\n",
        "            shutil.copy2(src,dst)\n",
        "        for t in train_samples:\n",
        "            src = fp + t\n",
        "            dst = train_folder + f'{cls_fp}_{t}'\n",
        "            shutil.copy2(src,dst)\n",
        "        for t in val_samples:\n",
        "            src = fp + t\n",
        "            dst = val_folder + f'{cls_fp}_{t}'\n",
        "            shutil.copy2(src,dst)\n",
        "\n",
        "    return \n",
        "\n",
        "def get_semi_class_counts(root_fp):\n",
        "    for split in os.listdir(root_fp):\n",
        "        split_fp = root_fp + split\n",
        "        split_files = os.listdir(split_fp)\n",
        "        split_files.sort()\n",
        "        split_files = [f.split('_')[0] for f in split_files]\n",
        "        print(split, Counter(split_files))\n",
        "    return"
      ],
      "execution_count": null,
      "outputs": []
    },
    {
      "cell_type": "markdown",
      "metadata": {
        "id": "9vKBNur1uVag"
      },
      "source": [
        "# DOTA Data"
      ]
    },
    {
      "cell_type": "code",
      "metadata": {
        "id": "95IEelJ3qmZZ"
      },
      "source": [
        "! cp '/content/drive/MyDrive/Colab Notebooks/SCHOOL/Final Project/Data/DOTA/DOTA_class.zip' .\n",
        "! unzip -q '/content/DOTA_class.zip'"
      ],
      "execution_count": null,
      "outputs": []
    },
    {
      "cell_type": "code",
      "metadata": {
        "id": "L0BPqGs0rF8C",
        "colab": {
          "base_uri": "https://localhost:8080/"
        },
        "outputId": "91baa818-737e-4754-fc20-48032deb8b1b"
      },
      "source": [
        "base_folder = '/content/content/DOTA_class/'\n",
        "for cls in os.listdir(base_folder):\n",
        "    cls_fp = base_folder + cls + '/'\n",
        "    cls_ct = len(os.listdir(cls_fp))\n",
        "    print(f'{cls} : {cls_ct}')"
      ],
      "execution_count": null,
      "outputs": [
        {
          "output_type": "stream",
          "name": "stdout",
          "text": [
            "baseball-diamond : 412\n",
            "roundabout : 437\n",
            "soccer-ball-field : 338\n",
            "small-vehicle : 126499\n",
            "container-crane : 142\n",
            "ship : 32973\n",
            "harbor : 6016\n",
            "basketball-court : 529\n",
            "plane : 7988\n",
            "helicopter : 635\n",
            "bridge : 2075\n",
            "large-vehicle : 22218\n",
            "swimming-pool : 2181\n",
            "storage-tank : 5346\n",
            "tennis-court : 2425\n",
            "ground-track-field : 331\n"
          ]
        }
      ]
    },
    {
      "cell_type": "code",
      "metadata": {
        "id": "CtfEs_vypfa-",
        "colab": {
          "base_uri": "https://localhost:8080/"
        },
        "outputId": "51ec1509-8c68-4bf1-8ff6-c684354e34e0"
      },
      "source": [
        "base_folder = '/content/content/DOTA_class/'\n",
        "val_p = 20\n",
        "test_p = 20\n",
        "max_samples = 2500\n",
        "new_folder = f'/content/DOTA_val_{val_p}_test_{test_p}_max_{max_samples}/'\n",
        "semi_train_val_test(base_folder, new_folder, val_p, test_p, max_samples)"
      ],
      "execution_count": null,
      "outputs": [
        {
          "output_type": "stream",
          "name": "stderr",
          "text": [
            " 12%|█▎        | 2/16 [00:00<00:01, 12.88it/s]"
          ]
        },
        {
          "output_type": "stream",
          "name": "stdout",
          "text": [
            "small-vehicle\n"
          ]
        },
        {
          "output_type": "stream",
          "name": "stderr",
          "text": [
            "\r 25%|██▌       | 4/16 [00:00<00:02,  4.89it/s]"
          ]
        },
        {
          "output_type": "stream",
          "name": "stdout",
          "text": [
            "ship\n"
          ]
        },
        {
          "output_type": "stream",
          "name": "stderr",
          "text": [
            "\r 38%|███▊      | 6/16 [00:01<00:01,  5.54it/s]"
          ]
        },
        {
          "output_type": "stream",
          "name": "stdout",
          "text": [
            "harbor\n"
          ]
        },
        {
          "output_type": "stream",
          "name": "stderr",
          "text": [
            " 50%|█████     | 8/16 [00:01<00:02,  3.82it/s]"
          ]
        },
        {
          "output_type": "stream",
          "name": "stdout",
          "text": [
            "plane\n"
          ]
        },
        {
          "output_type": "stream",
          "name": "stderr",
          "text": [
            " 69%|██████▉   | 11/16 [00:02<00:01,  3.58it/s]"
          ]
        },
        {
          "output_type": "stream",
          "name": "stdout",
          "text": [
            "large-vehicle\n"
          ]
        },
        {
          "output_type": "stream",
          "name": "stderr",
          "text": [
            " 81%|████████▏ | 13/16 [00:03<00:00,  3.60it/s]"
          ]
        },
        {
          "output_type": "stream",
          "name": "stdout",
          "text": [
            "storage-tank\n"
          ]
        },
        {
          "output_type": "stream",
          "name": "stderr",
          "text": [
            "100%|██████████| 16/16 [00:04<00:00,  3.53it/s]\n"
          ]
        }
      ]
    },
    {
      "cell_type": "code",
      "metadata": {
        "colab": {
          "base_uri": "https://localhost:8080/"
        },
        "id": "jazmbYlduHNo",
        "outputId": "b8097a5c-5003-4717-9053-f6a906a1b58a"
      },
      "source": [
        "get_semi_class_counts(new_folder)"
      ],
      "execution_count": null,
      "outputs": [
        {
          "output_type": "stream",
          "name": "stdout",
          "text": [
            "val Counter({'harbor': 500, 'large-vehicle': 500, 'plane': 500, 'ship': 500, 'small-vehicle': 500, 'storage-tank': 500, 'tennis-court': 485, 'swimming-pool': 436, 'bridge': 415, 'helicopter': 127, 'basketball-court': 105, 'roundabout': 87, 'baseball-diamond': 82, 'soccer-ball-field': 67, 'ground-track-field': 66, 'container-crane': 28})\n",
            "test Counter({'harbor': 500, 'large-vehicle': 500, 'plane': 500, 'ship': 500, 'small-vehicle': 500, 'storage-tank': 500, 'tennis-court': 485, 'swimming-pool': 436, 'bridge': 415, 'helicopter': 127, 'basketball-court': 105, 'roundabout': 87, 'baseball-diamond': 82, 'soccer-ball-field': 67, 'ground-track-field': 66, 'container-crane': 28})\n",
            "train Counter({'harbor': 1500, 'large-vehicle': 1500, 'plane': 1500, 'ship': 1500, 'small-vehicle': 1500, 'storage-tank': 1500, 'tennis-court': 1455, 'swimming-pool': 1309, 'bridge': 1245, 'helicopter': 381, 'basketball-court': 319, 'roundabout': 263, 'baseball-diamond': 248, 'soccer-ball-field': 204, 'ground-track-field': 199, 'container-crane': 86})\n"
          ]
        }
      ]
    },
    {
      "cell_type": "code",
      "metadata": {
        "id": "8hRoom6KryCs"
      },
      "source": [
        "! zip -rq '/content/DOTA_val_20_test_20_max_2500.zip' '/content/DOTA_val_20_test_20_max_2500'\n",
        "! cp '/content/DOTA_val_20_test_20_max_2500.zip' '/content/drive/MyDrive/Colab Notebooks/SCHOOL/Advanced Computer Vision/Final Project/'"
      ],
      "execution_count": null,
      "outputs": []
    },
    {
      "cell_type": "markdown",
      "metadata": {
        "id": "C8tgHgxpuej9"
      },
      "source": [
        "# FAIR1M Data"
      ]
    },
    {
      "cell_type": "code",
      "metadata": {
        "id": "fv642aBUsgLV"
      },
      "source": [
        "! cp '/content/drive/MyDrive/Colab Notebooks/SCHOOL/Final Project/Data/FAIR1M/fair1m_classification.zip' .\n",
        "! unzip -q 'fair1m_classification.zip'"
      ],
      "execution_count": null,
      "outputs": []
    },
    {
      "cell_type": "code",
      "metadata": {
        "colab": {
          "base_uri": "https://localhost:8080/"
        },
        "id": "1_vBL9fesuG7",
        "outputId": "d9ac0b05-5235-4b0a-e934-330bb6e43e66"
      },
      "source": [
        "base_folder = '/content/content/fair1m_classification/'\n",
        "for cls in os.listdir(base_folder):\n",
        "    cls_fp = base_folder + cls + '/'\n",
        "    cls_ct = len(os.listdir(cls_fp))\n",
        "    print(f'{cls} : {cls_ct}')"
      ],
      "execution_count": null,
      "outputs": [
        {
          "output_type": "stream",
          "name": "stdout",
          "text": [
            "other-vehicle : 3065\n",
            "Boeing737 : 3949\n",
            "Excavator : 891\n",
            "Tennis Court : 2924\n",
            "A350 : 1064\n",
            "Baseball Field : 1062\n",
            "C919 : 135\n",
            "Roundabout : 563\n",
            "Small Car : 143390\n",
            "Boeing747 : 1673\n",
            "Trailer : 589\n",
            "Bridge : 1008\n",
            "A330 : 1599\n",
            "Dry Cargo Ship : 9435\n",
            "Truck Tractor : 923\n",
            "ARJ21 : 166\n",
            "Motorboat : 7706\n",
            "Warship : 599\n",
            "A321 : 2505\n",
            "Boeing777 : 1532\n",
            "Engineering Ship : 1425\n",
            "Intersection : 6368\n",
            "Dump Truck : 25794\n",
            "Tractor : 262\n",
            "Bus : 1022\n",
            "other-airplane : 9975\n",
            "Tugboat : 1453\n",
            "Boeing787 : 1669\n",
            "Van : 132438\n",
            "other-ship : 2197\n",
            "Passenger Ship : 575\n",
            "Football Field : 853\n",
            "Cargo Truck : 9257\n",
            "Fishing Boat : 5174\n",
            "Liquid Cargo Ship : 2898\n",
            "A220 : 6057\n",
            "Basketball Court : 1271\n"
          ]
        }
      ]
    },
    {
      "cell_type": "code",
      "metadata": {
        "id": "zalGZXHhvX3u"
      },
      "source": [
        "! rm -r '/content/content/fair1m_classification/other-airplane/'\n",
        "! rm -r '/content/content/fair1m_classification/other-ship/'\n",
        "! rm -r '/content/content/fair1m_classification/other-vehicle/'"
      ],
      "execution_count": null,
      "outputs": []
    },
    {
      "cell_type": "code",
      "metadata": {
        "colab": {
          "base_uri": "https://localhost:8080/"
        },
        "id": "sYrXxhknvlZ1",
        "outputId": "6c8fb739-bb83-42e0-efc2-513a8bf6f6ba"
      },
      "source": [
        "val_p = 20\n",
        "test_p = 20\n",
        "max_samples = 2500\n",
        "new_folder = f'/content/FAIR1M-no-other_val_{val_p}_test_{test_p}_max_{max_samples}/'\n",
        "semi_train_val_test(base_folder, new_folder, val_p, test_p, max_samples)"
      ],
      "execution_count": null,
      "outputs": [
        {
          "output_type": "stream",
          "name": "stderr",
          "text": [
            "\r  0%|          | 0/34 [00:00<?, ?it/s]"
          ]
        },
        {
          "output_type": "stream",
          "name": "stdout",
          "text": [
            "Boeing737\n"
          ]
        },
        {
          "output_type": "stream",
          "name": "stderr",
          "text": [
            "  6%|▌         | 2/34 [00:00<00:05,  5.78it/s]"
          ]
        },
        {
          "output_type": "stream",
          "name": "stdout",
          "text": [
            "Tennis Court\n"
          ]
        },
        {
          "output_type": "stream",
          "name": "stderr",
          "text": [
            " 21%|██        | 7/34 [00:01<00:04,  6.16it/s]"
          ]
        },
        {
          "output_type": "stream",
          "name": "stdout",
          "text": [
            "Small Car\n"
          ]
        },
        {
          "output_type": "stream",
          "name": "stderr",
          "text": [
            " 35%|███▌      | 12/34 [00:03<00:06,  3.26it/s]"
          ]
        },
        {
          "output_type": "stream",
          "name": "stdout",
          "text": [
            "Dry Cargo Ship\n"
          ]
        },
        {
          "output_type": "stream",
          "name": "stderr",
          "text": [
            " 41%|████      | 14/34 [00:03<00:05,  3.36it/s]"
          ]
        },
        {
          "output_type": "stream",
          "name": "stdout",
          "text": [
            "Motorboat\n"
          ]
        },
        {
          "output_type": "stream",
          "name": "stderr",
          "text": [
            " 50%|█████     | 17/34 [00:04<00:03,  5.01it/s]"
          ]
        },
        {
          "output_type": "stream",
          "name": "stdout",
          "text": [
            "A321\n"
          ]
        },
        {
          "output_type": "stream",
          "name": "stderr",
          "text": [
            " 59%|█████▉    | 20/34 [00:05<00:03,  3.54it/s]"
          ]
        },
        {
          "output_type": "stream",
          "name": "stdout",
          "text": [
            "Intersection\n"
          ]
        },
        {
          "output_type": "stream",
          "name": "stderr",
          "text": [
            "\r 62%|██████▏   | 21/34 [00:05<00:04,  3.18it/s]"
          ]
        },
        {
          "output_type": "stream",
          "name": "stdout",
          "text": [
            "Dump Truck\n"
          ]
        },
        {
          "output_type": "stream",
          "name": "stderr",
          "text": [
            " 76%|███████▋  | 26/34 [00:06<00:01,  5.15it/s]"
          ]
        },
        {
          "output_type": "stream",
          "name": "stdout",
          "text": [
            "Van\n"
          ]
        },
        {
          "output_type": "stream",
          "name": "stderr",
          "text": [
            " 85%|████████▌ | 29/34 [00:07<00:01,  4.35it/s]"
          ]
        },
        {
          "output_type": "stream",
          "name": "stdout",
          "text": [
            "Cargo Truck\n"
          ]
        },
        {
          "output_type": "stream",
          "name": "stderr",
          "text": [
            "\r 88%|████████▊ | 30/34 [00:07<00:00,  4.03it/s]"
          ]
        },
        {
          "output_type": "stream",
          "name": "stdout",
          "text": [
            "Fishing Boat\n"
          ]
        },
        {
          "output_type": "stream",
          "name": "stderr",
          "text": [
            "\r 91%|█████████ | 31/34 [00:07<00:00,  3.96it/s]"
          ]
        },
        {
          "output_type": "stream",
          "name": "stdout",
          "text": [
            "Liquid Cargo Ship\n"
          ]
        },
        {
          "output_type": "stream",
          "name": "stderr",
          "text": [
            "\r 94%|█████████▍| 32/34 [00:08<00:00,  3.37it/s]"
          ]
        },
        {
          "output_type": "stream",
          "name": "stdout",
          "text": [
            "A220\n"
          ]
        },
        {
          "output_type": "stream",
          "name": "stderr",
          "text": [
            "100%|██████████| 34/34 [00:08<00:00,  3.86it/s]\n"
          ]
        }
      ]
    },
    {
      "cell_type": "code",
      "metadata": {
        "colab": {
          "base_uri": "https://localhost:8080/"
        },
        "id": "LLpz37Y0uxr2",
        "outputId": "9dae6339-d688-4347-e35b-2b60529cf414"
      },
      "source": [
        "get_semi_class_counts(new_folder)"
      ],
      "execution_count": null,
      "outputs": [
        {
          "output_type": "stream",
          "name": "stdout",
          "text": [
            "val Counter({'A220': 500, 'A321': 500, 'Boeing737': 500, 'Cargo Truck': 500, 'Dry Cargo Ship': 500, 'Dump Truck': 500, 'Fishing Boat': 500, 'Intersection': 500, 'Liquid Cargo Ship': 500, 'Motorboat': 500, 'Small Car': 500, 'Tennis Court': 500, 'Van': 500, 'Boeing747': 334, 'Boeing787': 333, 'A330': 319, 'Boeing777': 306, 'Tugboat': 290, 'Engineering Ship': 285, 'Basketball Court': 254, 'A350': 212, 'Baseball Field': 212, 'Bus': 204, 'Bridge': 201, 'Truck Tractor': 184, 'Excavator': 178, 'Football Field': 170, 'Warship': 119, 'Trailer': 117, 'Passenger Ship': 115, 'Roundabout': 112, 'Tractor': 52, 'ARJ21': 33, 'C919': 27})\n",
            "test Counter({'A220': 500, 'A321': 500, 'Boeing737': 500, 'Cargo Truck': 500, 'Dry Cargo Ship': 500, 'Dump Truck': 500, 'Fishing Boat': 500, 'Intersection': 500, 'Liquid Cargo Ship': 500, 'Motorboat': 500, 'Small Car': 500, 'Tennis Court': 500, 'Van': 500, 'Boeing747': 334, 'Boeing787': 333, 'A330': 319, 'Boeing777': 306, 'Tugboat': 290, 'Engineering Ship': 285, 'Basketball Court': 254, 'A350': 212, 'Baseball Field': 212, 'Bus': 204, 'Bridge': 201, 'Truck Tractor': 184, 'Excavator': 178, 'Football Field': 170, 'Warship': 119, 'Trailer': 117, 'Passenger Ship': 115, 'Roundabout': 112, 'Tractor': 52, 'ARJ21': 33, 'C919': 27})\n",
            "train Counter({'A220': 1500, 'A321': 1500, 'Boeing737': 1500, 'Cargo Truck': 1500, 'Dry Cargo Ship': 1500, 'Dump Truck': 1500, 'Fishing Boat': 1500, 'Intersection': 1500, 'Liquid Cargo Ship': 1500, 'Motorboat': 1500, 'Small Car': 1500, 'Tennis Court': 1500, 'Van': 1500, 'Boeing747': 1005, 'Boeing787': 1003, 'A330': 961, 'Boeing777': 920, 'Tugboat': 873, 'Engineering Ship': 855, 'Basketball Court': 763, 'A350': 640, 'Baseball Field': 638, 'Bus': 614, 'Bridge': 606, 'Truck Tractor': 555, 'Excavator': 535, 'Football Field': 513, 'Warship': 361, 'Trailer': 355, 'Passenger Ship': 345, 'Roundabout': 339, 'Tractor': 158, 'ARJ21': 100, 'C919': 81})\n"
          ]
        }
      ]
    },
    {
      "cell_type": "code",
      "metadata": {
        "id": "oSYgF_k-u-Az"
      },
      "source": [
        "fps = ['/content/FAIR1M-no-other_val_20_test_20_max_2500/train/', '/content/FAIR1M-no-other_val_20_test_20_max_2500/val/', '/content/FAIR1M-no-other_val_20_test_20_max_2500/test/']\n",
        "clean_images(fps)"
      ],
      "execution_count": null,
      "outputs": []
    },
    {
      "cell_type": "code",
      "metadata": {
        "id": "_fkbNbnIvz0X"
      },
      "source": [
        "! zip -rq 'FAIR1M-no-other_val_20_test_20_max_2500.zip' 'FAIR1M-no-other_val_20_test_20_max_2500'\n",
        "! cp 'FAIR1M-no-other_val_20_test_20_max_2500.zip' '/content/drive/MyDrive/Colab Notebooks/SCHOOL/Advanced Computer Vision/Final Project/'"
      ],
      "execution_count": null,
      "outputs": []
    }
  ]
}