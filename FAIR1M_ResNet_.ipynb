{
  "cells": [
    {
      "cell_type": "markdown",
      "metadata": {
        "id": "view-in-github",
        "colab_type": "text"
      },
      "source": [
        "<a href=\"https://colab.research.google.com/github/lawsonk16/IGARSS22/blob/main/FAIR1M_ResNet_.ipynb\" target=\"_parent\"><img src=\"https://colab.research.google.com/assets/colab-badge.svg\" alt=\"Open In Colab\"/></a>"
      ]
    },
    {
      "cell_type": "code",
      "execution_count": 3,
      "metadata": {
        "colab": {
          "base_uri": "https://localhost:8080/"
        },
        "id": "MCRsNCima6k7",
        "outputId": "f2f8bee2-1df7-45e3-85c8-1eddc066a900"
      },
      "outputs": [
        {
          "output_type": "stream",
          "name": "stdout",
          "text": [
            "Drive already mounted at /content/drive; to attempt to forcibly remount, call drive.mount(\"/content/drive\", force_remount=True).\n"
          ]
        }
      ],
      "source": [
        "from google.colab import drive\n",
        "drive.mount('/content/drive')\n",
        "\n",
        "import sys\n",
        "sys.path.append('/content/drive/MyDrive/Colab Notebooks/scripts/')\n",
        "from simclr_resnet import *"
      ]
    },
    {
      "cell_type": "code",
      "execution_count": 2,
      "metadata": {
        "id": "0UOIG2xwYn6f"
      },
      "outputs": [],
      "source": [
        "! cp '/content/drive/MyDrive/Colab Notebooks/SCHOOL/Advanced Computer Vision/Final Project/data/FAIR1M-no-other_val_20_test_20_max_2500.zip' .\n",
        "! unzip -q 'FAIR1M-no-other_val_20_test_20_max_2500.zip'"
      ]
    },
    {
      "cell_type": "code",
      "execution_count": 4,
      "metadata": {
        "id": "p85T_VKbCciC"
      },
      "outputs": [],
      "source": [
        "root_folder = '/content/FAIR1M-no-other_val_20_test_20_max_2500'\n",
        "data_tag = 'FAIR1M'\n",
        "percentages_supervised = [1,10,50,100]\n",
        "train_batch_sizes = [32, 64, 128, 256]\n",
        "ft_aug = True\n",
        "pre_trained = False\n",
        "test_batch_size = 8\n",
        "fcs = [250,125,50]\n",
        "num_epochs = 150\n",
        "optim_tag = 'SGD'"
      ]
    },
    {
      "cell_type": "code",
      "execution_count": 5,
      "metadata": {
        "colab": {
          "base_uri": "https://localhost:8080/"
        },
        "id": "dyO_7d8W3gAZ",
        "outputId": "f0e04c1b-88b6-4ff9-ea09-67d0ed55ecf3"
      },
      "outputs": [
        {
          "output_type": "stream",
          "name": "stdout",
          "text": [
            "sup: 1, batch: 32\n",
            "Loading 150 epochs of training, with current best accuracy of 0.214077\n",
            "0.214077\n",
            "sup: 10, batch: 32\n",
            "Loading 150 epochs of training, with current best accuracy of 0.503314\n",
            "0.503314\n",
            "sup: 50, batch: 32\n",
            "Loading 150 epochs of training, with current best accuracy of 0.69341\n",
            "0.69341\n",
            "sup: 100, batch: 32\n",
            "Loading 150 epochs of training, with current best accuracy of 0.763794\n",
            "0.763794\n",
            "sup: 1, batch: 64\n",
            "Loading 150 epochs of training, with current best accuracy of 0.182589\n",
            "0.182589\n",
            "sup: 10, batch: 64\n",
            "Loading 150 epochs of training, with current best accuracy of 0.432833\n",
            "0.432833\n",
            "sup: 50, batch: 64\n",
            "Loading 150 epochs of training, with current best accuracy of 0.655001\n",
            "0.655001\n",
            "sup: 100, batch: 64\n",
            "Loading 150 epochs of training, with current best accuracy of 0.741609\n",
            "0.741609\n",
            "sup: 1, batch: 128\n",
            "Loading 150 epochs of training, with current best accuracy of 0.149347\n",
            "0.149347\n",
            "sup: 10, batch: 128\n",
            "Loading 150 epochs of training, with current best accuracy of 0.391575\n",
            "0.391575\n",
            "sup: 50, batch: 128\n",
            "Loading 150 epochs of training, with current best accuracy of 0.598502\n",
            "0.598502\n",
            "sup: 100, batch: 128\n",
            "Loading 150 epochs of training, with current best accuracy of 0.679152\n",
            "0.679152\n",
            "sup: 1, batch: 256\n",
            "Loading 150 epochs of training, with current best accuracy of 0.143108\n",
            "0.143108\n",
            "sup: 10, batch: 256\n",
            "Loading 150 epochs of training, with current best accuracy of 0.324235\n",
            "0.324235\n",
            "sup: 50, batch: 256\n",
            "Loading 150 epochs of training, with current best accuracy of 0.489667\n",
            "0.489667\n",
            "sup: 100, batch: 256\n",
            "Loading 150 epochs of training, with current best accuracy of 0.585689\n",
            "0.585689\n"
          ]
        }
      ],
      "source": [
        "for train_batch_size in train_batch_sizes:\n",
        "    for percentage_supervised in percentages_supervised:\n",
        "        print(f'sup: {percentage_supervised}, batch: {train_batch_size}')\n",
        "        initial_args = root_folder, data_tag, percentage_supervised, ft_aug, pre_trained, test_batch_size, train_batch_size, fcs, num_epochs, optim_tag \n",
        "        args = prep_for_experiments(initial_args)\n",
        "        resnet, best_test_acc = train_resnet(args)\n",
        "        print(best_test_acc)"
      ]
    }
  ],
  "metadata": {
    "accelerator": "GPU",
    "colab": {
      "collapsed_sections": [],
      "name": "FAIR1M ResNet .ipynb",
      "provenance": [],
      "include_colab_link": true
    },
    "kernelspec": {
      "display_name": "Python 3",
      "name": "python3"
    },
    "language_info": {
      "name": "python"
    }
  },
  "nbformat": 4,
  "nbformat_minor": 0
}