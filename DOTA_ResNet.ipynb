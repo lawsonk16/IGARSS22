{
  "cells": [
    {
      "cell_type": "markdown",
      "metadata": {
        "id": "view-in-github",
        "colab_type": "text"
      },
      "source": [
        "<a href=\"https://colab.research.google.com/github/lawsonk16/IGARSS22/blob/main/DOTA_ResNet.ipynb\" target=\"_parent\"><img src=\"https://colab.research.google.com/assets/colab-badge.svg\" alt=\"Open In Colab\"/></a>"
      ]
    },
    {
      "cell_type": "code",
      "execution_count": 1,
      "metadata": {
        "colab": {
          "base_uri": "https://localhost:8080/"
        },
        "id": "MCRsNCima6k7",
        "outputId": "9e998dee-d150-4ef6-f23c-e0dc1e87814b"
      },
      "outputs": [
        {
          "output_type": "stream",
          "name": "stdout",
          "text": [
            "Mounted at /content/drive\n"
          ]
        }
      ],
      "source": [
        "from google.colab import drive\n",
        "drive.mount('/content/drive')"
      ]
    },
    {
      "cell_type": "code",
      "execution_count": 2,
      "metadata": {
        "id": "0UOIG2xwYn6f"
      },
      "outputs": [],
      "source": [
        "! cp '/content/drive/MyDrive/Colab Notebooks/SCHOOL/Advanced Computer Vision/Final Project/data/DOTA_val_20_test_20_max_2500.zip' .\n",
        "! unzip -q 'DOTA_val_20_test_20_max_2500.zip'"
      ]
    },
    {
      "cell_type": "code",
      "execution_count": 3,
      "metadata": {
        "id": "p85T_VKbCciC"
      },
      "outputs": [],
      "source": [
        "import sys\n",
        "sys.path.append('/content/drive/MyDrive/Colab Notebooks/scripts/')\n",
        "from simclr_resnet import *\n",
        "\n",
        "root_folder = '/content/content/DOTA_val_20_test_20_max_2500'\n",
        "data_tag = 'DOTA'\n",
        "percentages_supervised = [1,10,50,100]\n",
        "train_batch_sizes = [32,64,128,256]\n",
        "ft_aug = True\n",
        "pre_trained = False\n",
        "test_batch_size = 8\n",
        "fcs = [250,125,50]\n",
        "num_epochs = 150\n",
        "optim_tag = 'SGD'"
      ]
    },
    {
      "cell_type": "code",
      "execution_count": 4,
      "metadata": {
        "colab": {
          "base_uri": "https://localhost:8080/"
        },
        "id": "dyO_7d8W3gAZ",
        "outputId": "48661232-2791-4a48-ec93-61df8148f3f9"
      },
      "outputs": [
        {
          "output_type": "stream",
          "name": "stdout",
          "text": [
            "sup: 1, batch: 32\n",
            "Loading 150 epochs of training, with current best accuracy of 0.501633\n",
            "sup: 10, batch: 32\n",
            "Loading 150 epochs of training, with current best accuracy of 0.742752\n",
            "sup: 50, batch: 32\n",
            "Loading 150 epochs of training, with current best accuracy of 0.891793\n",
            "sup: 100, batch: 32\n",
            "Loading 150 epochs of training, with current best accuracy of 0.918742\n",
            "sup: 1, batch: 64\n",
            "Loading 150 epochs of training, with current best accuracy of 0.470192\n",
            "sup: 10, batch: 64\n",
            "Loading 150 epochs of training, with current best accuracy of 0.709269\n",
            "sup: 50, batch: 64\n",
            "Loading 150 epochs of training, with current best accuracy of 0.868926\n",
            "sup: 100, batch: 64\n",
            "Loading 150 epochs of training, with current best accuracy of 0.910372\n",
            "sup: 1, batch: 128\n",
            "Loading 150 epochs of training, with current best accuracy of 0.410576\n",
            "sup: 10, batch: 128\n",
            "Loading 150 epochs of training, with current best accuracy of 0.653124\n",
            "sup: 50, batch: 128\n",
            "Loading 150 epochs of training, with current best accuracy of 0.822376\n",
            "sup: 100, batch: 128\n",
            "Loading 150 epochs of training, with current best accuracy of 0.882809\n",
            "sup: 1, batch: 256\n",
            "Loading 150 epochs of training, with current best accuracy of 0.330951\n",
            "sup: 10, batch: 256\n",
            "Loading 150 epochs of training, with current best accuracy of 0.603307\n",
            "sup: 50, batch: 256\n",
            "Loading 150 epochs of training, with current best accuracy of 0.764598\n",
            "sup: 100, batch: 256\n",
            "Loading 150 epochs of training, with current best accuracy of 0.830339\n"
          ]
        }
      ],
      "source": [
        "for train_batch_size in train_batch_sizes:\n",
        "    for percentage_supervised in percentages_supervised:\n",
        "        print(f'sup: {percentage_supervised}, batch: {train_batch_size}')\n",
        "        initial_args = root_folder, data_tag, percentage_supervised, ft_aug, pre_trained, test_batch_size, train_batch_size, fcs, num_epochs, optim_tag \n",
        "        args = prep_for_experiments(initial_args)\n",
        "        resnet, best_test_acc = train_resnet(args)"
      ]
    }
  ],
  "metadata": {
    "accelerator": "GPU",
    "colab": {
      "collapsed_sections": [],
      "name": "DOTA_ResNet.ipynb",
      "provenance": [],
      "include_colab_link": true
    },
    "kernelspec": {
      "display_name": "Python 3",
      "name": "python3"
    },
    "language_info": {
      "name": "python"
    }
  },
  "nbformat": 4,
  "nbformat_minor": 0
}