{
  "nbformat": 4,
  "nbformat_minor": 0,
  "metadata": {
    "colab": {
      "name": "Final_Results.ipynb",
      "provenance": [],
      "collapsed_sections": [],
      "mount_file_id": "1q08nZYZD_ZueyraftsSamkw5vwRqhvcd",
      "authorship_tag": "ABX9TyMG4kNAXlaG5dRfFNSJEdyG",
      "include_colab_link": true
    },
    "kernelspec": {
      "name": "python3",
      "display_name": "Python 3"
    },
    "language_info": {
      "name": "python"
    },
    "accelerator": "GPU"
  },
  "cells": [
    {
      "cell_type": "markdown",
      "metadata": {
        "id": "view-in-github",
        "colab_type": "text"
      },
      "source": [
        "<a href=\"https://colab.research.google.com/github/lawsonk16/IGARSS22/blob/main/Final_Results.ipynb\" target=\"_parent\"><img src=\"https://colab.research.google.com/assets/colab-badge.svg\" alt=\"Open In Colab\"/></a>"
      ]
    },
    {
      "cell_type": "code",
      "source": [
        "from google.colab import drive\n",
        "drive.mount('/content/drive')"
      ],
      "metadata": {
        "colab": {
          "base_uri": "https://localhost:8080/"
        },
        "id": "M6v4HHuD4Msq",
        "outputId": "05403372-10b9-4bcf-b37b-6c522f8b605c"
      },
      "execution_count": null,
      "outputs": [
        {
          "output_type": "stream",
          "name": "stdout",
          "text": [
            "Drive already mounted at /content/drive; to attempt to forcibly remount, call drive.mount(\"/content/drive\", force_remount=True).\n"
          ]
        }
      ]
    },
    {
      "cell_type": "code",
      "source": [
        "import sys\n",
        "import shutil\n",
        "sys.path.append('/content/drive/MyDrive/Colab Notebooks/scripts/')\n",
        "from simclr import *\n",
        "from simclr_resnet import *"
      ],
      "metadata": {
        "id": "ZvtZ65TP3cOZ"
      },
      "execution_count": null,
      "outputs": []
    },
    {
      "cell_type": "markdown",
      "source": [
        "# DOTA\n"
      ],
      "metadata": {
        "id": "9J2rNk0p3Wub"
      }
    },
    {
      "cell_type": "code",
      "execution_count": null,
      "metadata": {
        "id": "AY1nsyua0-wK"
      },
      "outputs": [],
      "source": [
        "# Import the data, and rename folders to perform final tests\n",
        "! cp '/content/drive/MyDrive/Colab Notebooks/SCHOOL/Advanced Computer Vision/Final Project/data/DOTA_val_20_test_20_max_2500.zip' .\n",
        "! unzip -q 'DOTA_val_20_test_20_max_2500.zip'\n",
        "\n",
        "shutil.rmtree('/content/content/DOTA_val_20_test_20_max_2500/test/')\n",
        "os.rename('/content/content/DOTA_val_20_test_20_max_2500/val/', '/content/content/DOTA_val_20_test_20_max_2500/test/')"
      ]
    },
    {
      "cell_type": "markdown",
      "source": [
        "### SimCLR"
      ],
      "metadata": {
        "id": "PW__rmDs5PYh"
      }
    },
    {
      "cell_type": "code",
      "source": [
        "train_batch_sizes = [32,64,128,256]\n",
        "percentages_supervised = [1, 10, 50, 100]\n",
        "test_batch_size = 8\n",
        "fcs = [250,125,50]\n",
        "resnet_epochs = 150\n",
        "fine_tuned_epochs = 100\n",
        "ft_aug = True\n",
        "pre_trained = False\n",
        "tau = 0.05\n",
        "res_s = 18\n",
        "\n",
        "optim_s = 'SGD'\n",
        "dataset_n = 'DOTA'\n",
        "model_folder = '/content/drive/MyDrive/Colab Notebooks/SCHOOL/Advanced Computer Vision/Final Project/Model_Results/'\n",
        "root_folder = '/content/content/DOTA_val_20_test_20_max_2500'\n",
        "\n",
        "\n",
        "mapping, inverse_mapping = get_mapping(root_folder)\n",
        "transform = T.Compose([T.RandomApply([T.ColorJitter(0.8, 0.8, 0.8, 0.2)], p=0.8), \n",
        "                      T.RandomGrayscale(p=0.2),\n",
        "                      T.RandomHorizontalFlip(p=0.3),\n",
        "                      T.RandomVerticalFlip(p=0.3),\n",
        "                      T.RandomRotation(10),\n",
        "                      T.RandomResizedCrop(224)\n",
        "                      ])\n",
        "transform_name = 't6'"
      ],
      "metadata": {
        "id": "4fF7_AD33mzM"
      },
      "execution_count": null,
      "outputs": []
    },
    {
      "cell_type": "code",
      "source": [
        "for train_batch_size in train_batch_sizes:\n",
        "    for percentage_supervised in percentages_supervised:\n",
        "        print(f'sup {percentage_supervised}, batch {train_batch_size}')\n",
        "        args = [ft_aug, train_batch_size, test_batch_size, percentage_supervised, pre_trained, fcs, tau, resnet_epochs, fine_tuned_epochs, res_s, optim_s, dataset_n, model_folder, root_folder, mapping, inverse_mapping, transform, transform_name]\n",
        "        test_trained_model(args, save_fig = True)"
      ],
      "metadata": {
        "colab": {
          "base_uri": "https://localhost:8080/"
        },
        "id": "4jXCbl7d3yfu",
        "outputId": "e3054f79-6bd4-4d3a-e464-c0652bc41e38"
      },
      "execution_count": null,
      "outputs": [
        {
          "output_type": "stream",
          "name": "stdout",
          "text": [
            "sup 1, batch 32\n",
            "Model Accuracy: 0.6827\n",
            "sup 10, batch 32\n",
            "Model Accuracy: 0.7615\n",
            "sup 50, batch 32\n",
            "Model Accuracy: 0.7813\n",
            "sup 100, batch 32\n",
            "Model Accuracy: 0.796\n",
            "sup 1, batch 64\n",
            "Model Accuracy: 0.6835\n",
            "sup 10, batch 64\n",
            "Model Accuracy: 0.786\n",
            "sup 50, batch 64\n",
            "Model Accuracy: 0.8158\n",
            "sup 100, batch 64\n",
            "Model Accuracy: 0.8191\n",
            "sup 1, batch 128\n",
            "Model Accuracy: 0.6933\n",
            "sup 10, batch 128\n",
            "Model Accuracy: 0.7948\n",
            "sup 50, batch 128\n",
            "Model Accuracy: 0.823\n",
            "sup 100, batch 128\n",
            "Model Accuracy: 0.8271\n",
            "sup 1, batch 256\n",
            "Model Accuracy: 0.669\n",
            "sup 10, batch 256\n",
            "Model Accuracy: 0.7713\n",
            "sup 50, batch 256\n",
            "Model Accuracy: 0.7997\n",
            "sup 100, batch 256\n",
            "Model Accuracy: 0.806\n"
          ]
        }
      ]
    },
    {
      "cell_type": "markdown",
      "source": [
        "### ResNet"
      ],
      "metadata": {
        "id": "aXvxlvY75Rja"
      }
    },
    {
      "cell_type": "code",
      "source": [
        "root_folder = '/content/content/DOTA_val_20_test_20_max_2500'\n",
        "data_tag = 'DOTA'\n",
        "percentages_supervised = [1,10,50,100]\n",
        "train_batch_sizes = [32,64,128,256]\n",
        "ft_aug = True\n",
        "pre_trained = False\n",
        "test_batch_size = 8\n",
        "fcs = [250,125,50]\n",
        "num_epochs = 150\n",
        "optim_tag = 'SGD'"
      ],
      "metadata": {
        "id": "aVFZP4oE5RJU"
      },
      "execution_count": null,
      "outputs": []
    },
    {
      "cell_type": "code",
      "source": [
        "for train_batch_size in train_batch_sizes:\n",
        "    for percentage_supervised in percentages_supervised:\n",
        "        print(f'sup: {percentage_supervised}, batch: {train_batch_size}')\n",
        "        initial_args = root_folder, data_tag, percentage_supervised, ft_aug, pre_trained, test_batch_size, train_batch_size, fcs, num_epochs, optim_tag \n",
        "        args = prep_final_test(initial_args, test_folder = 'test')\n",
        "        test_acc = final_test(args)"
      ],
      "metadata": {
        "id": "GxIlK7R_4yXi",
        "colab": {
          "base_uri": "https://localhost:8080/"
        },
        "outputId": "1d40ab74-24b7-47fa-a447-3b324fec4f35"
      },
      "execution_count": null,
      "outputs": [
        {
          "output_type": "stream",
          "name": "stdout",
          "text": [
            "sup: 1, batch: 32\n",
            "Loading 150 epochs of training, with current best accuracy of 0.501633\n"
          ]
        },
        {
          "output_type": "stream",
          "name": "stderr",
          "text": [
            "Final Test: 100%|██████████| 613/613 [00:21<00:00, 28.89it/s]\n"
          ]
        },
        {
          "output_type": "stream",
          "name": "stdout",
          "text": [
            "Test accuracy: 0.511\n",
            "sup: 10, batch: 32\n",
            "Loading 150 epochs of training, with current best accuracy of 0.742752\n"
          ]
        },
        {
          "output_type": "stream",
          "name": "stderr",
          "text": [
            "Final Test: 100%|██████████| 613/613 [00:21<00:00, 29.15it/s]\n"
          ]
        },
        {
          "output_type": "stream",
          "name": "stdout",
          "text": [
            "Test accuracy: 0.7421\n",
            "sup: 50, batch: 32\n",
            "Loading 150 epochs of training, with current best accuracy of 0.891793\n"
          ]
        },
        {
          "output_type": "stream",
          "name": "stderr",
          "text": [
            "Final Test: 100%|██████████| 613/613 [00:20<00:00, 29.23it/s]\n"
          ]
        },
        {
          "output_type": "stream",
          "name": "stdout",
          "text": [
            "Test accuracy: 0.8891\n",
            "sup: 100, batch: 32\n",
            "Loading 150 epochs of training, with current best accuracy of 0.918742\n"
          ]
        },
        {
          "output_type": "stream",
          "name": "stderr",
          "text": [
            "Final Test: 100%|██████████| 613/613 [00:20<00:00, 29.22it/s]\n"
          ]
        },
        {
          "output_type": "stream",
          "name": "stdout",
          "text": [
            "Test accuracy: 0.9181\n",
            "sup: 1, batch: 64\n",
            "Loading 150 epochs of training, with current best accuracy of 0.470192\n"
          ]
        },
        {
          "output_type": "stream",
          "name": "stderr",
          "text": [
            "Final Test: 100%|██████████| 613/613 [00:21<00:00, 29.02it/s]\n"
          ]
        },
        {
          "output_type": "stream",
          "name": "stdout",
          "text": [
            "Test accuracy: 0.4745\n",
            "sup: 10, batch: 64\n",
            "Loading 150 epochs of training, with current best accuracy of 0.709269\n"
          ]
        },
        {
          "output_type": "stream",
          "name": "stderr",
          "text": [
            "Final Test: 100%|██████████| 613/613 [00:20<00:00, 29.28it/s]\n"
          ]
        },
        {
          "output_type": "stream",
          "name": "stdout",
          "text": [
            "Test accuracy: 0.7105\n",
            "sup: 50, batch: 64\n",
            "Loading 150 epochs of training, with current best accuracy of 0.868926\n"
          ]
        },
        {
          "output_type": "stream",
          "name": "stderr",
          "text": [
            "Final Test: 100%|██████████| 613/613 [00:20<00:00, 29.39it/s]\n"
          ]
        },
        {
          "output_type": "stream",
          "name": "stdout",
          "text": [
            "Test accuracy: 0.8628\n",
            "sup: 100, batch: 64\n",
            "Loading 150 epochs of training, with current best accuracy of 0.910372\n"
          ]
        },
        {
          "output_type": "stream",
          "name": "stderr",
          "text": [
            "Final Test: 100%|██████████| 613/613 [00:20<00:00, 29.27it/s]\n"
          ]
        },
        {
          "output_type": "stream",
          "name": "stdout",
          "text": [
            "Test accuracy: 0.9073\n",
            "sup: 1, batch: 128\n",
            "Loading 150 epochs of training, with current best accuracy of 0.410576\n"
          ]
        },
        {
          "output_type": "stream",
          "name": "stderr",
          "text": [
            "Final Test: 100%|██████████| 613/613 [00:21<00:00, 28.89it/s]\n"
          ]
        },
        {
          "output_type": "stream",
          "name": "stdout",
          "text": [
            "Test accuracy: 0.4145\n",
            "sup: 10, batch: 128\n",
            "Loading 150 epochs of training, with current best accuracy of 0.653124\n"
          ]
        },
        {
          "output_type": "stream",
          "name": "stderr",
          "text": [
            "Final Test: 100%|██████████| 613/613 [00:21<00:00, 29.02it/s]\n"
          ]
        },
        {
          "output_type": "stream",
          "name": "stdout",
          "text": [
            "Test accuracy: 0.6576\n",
            "sup: 50, batch: 128\n",
            "Loading 150 epochs of training, with current best accuracy of 0.822376\n"
          ]
        },
        {
          "output_type": "stream",
          "name": "stderr",
          "text": [
            "Final Test: 100%|██████████| 613/613 [00:21<00:00, 28.59it/s]\n"
          ]
        },
        {
          "output_type": "stream",
          "name": "stdout",
          "text": [
            "Test accuracy: 0.8289\n",
            "sup: 100, batch: 128\n",
            "Loading 150 epochs of training, with current best accuracy of 0.882809\n"
          ]
        },
        {
          "output_type": "stream",
          "name": "stderr",
          "text": [
            "Final Test: 100%|██████████| 613/613 [00:21<00:00, 29.10it/s]\n"
          ]
        },
        {
          "output_type": "stream",
          "name": "stdout",
          "text": [
            "Test accuracy: 0.8865\n",
            "sup: 1, batch: 256\n",
            "Loading 150 epochs of training, with current best accuracy of 0.330951\n"
          ]
        },
        {
          "output_type": "stream",
          "name": "stderr",
          "text": [
            "Final Test: 100%|██████████| 613/613 [00:21<00:00, 29.07it/s]\n"
          ]
        },
        {
          "output_type": "stream",
          "name": "stdout",
          "text": [
            "Test accuracy: 0.3289\n",
            "sup: 10, batch: 256\n",
            "Loading 150 epochs of training, with current best accuracy of 0.603307\n"
          ]
        },
        {
          "output_type": "stream",
          "name": "stderr",
          "text": [
            "Final Test: 100%|██████████| 613/613 [00:21<00:00, 28.94it/s]\n"
          ]
        },
        {
          "output_type": "stream",
          "name": "stdout",
          "text": [
            "Test accuracy: 0.6158\n",
            "sup: 50, batch: 256\n",
            "Loading 150 epochs of training, with current best accuracy of 0.764598\n"
          ]
        },
        {
          "output_type": "stream",
          "name": "stderr",
          "text": [
            "Final Test: 100%|██████████| 613/613 [00:21<00:00, 28.81it/s]\n"
          ]
        },
        {
          "output_type": "stream",
          "name": "stdout",
          "text": [
            "Test accuracy: 0.7687\n",
            "sup: 100, batch: 256\n",
            "Loading 150 epochs of training, with current best accuracy of 0.830339\n"
          ]
        },
        {
          "output_type": "stream",
          "name": "stderr",
          "text": [
            "Final Test: 100%|██████████| 613/613 [00:21<00:00, 29.13it/s]"
          ]
        },
        {
          "output_type": "stream",
          "name": "stdout",
          "text": [
            "Test accuracy: 0.8412\n"
          ]
        },
        {
          "output_type": "stream",
          "name": "stderr",
          "text": [
            "\n"
          ]
        }
      ]
    },
    {
      "cell_type": "markdown",
      "source": [
        "# FAIR1M"
      ],
      "metadata": {
        "id": "O1P7iKLJiVMc"
      }
    },
    {
      "cell_type": "code",
      "source": [
        "! cp '/content/drive/MyDrive/Colab Notebooks/SCHOOL/Advanced Computer Vision/Final Project/data/FAIR1M-no-other_val_20_test_20_max_2500.zip' .\n",
        "! unzip -q 'FAIR1M-no-other_val_20_test_20_max_2500.zip'\n",
        "\n",
        "shutil.rmtree('/content/FAIR1M-no-other_val_20_test_20_max_2500/test')\n",
        "os.rename('/content/FAIR1M-no-other_val_20_test_20_max_2500/val', '/content/FAIR1M-no-other_val_20_test_20_max_2500/test')"
      ],
      "metadata": {
        "id": "yeq1Hv9Ehoet"
      },
      "execution_count": null,
      "outputs": []
    },
    {
      "cell_type": "markdown",
      "source": [
        "### SimCLR"
      ],
      "metadata": {
        "id": "kTF7xDr0iwv9"
      }
    },
    {
      "cell_type": "code",
      "source": [
        "# train_batch_sizes = [32, 64, 128, 256]\n",
        "# percentages_supervised = [1, 10, 50, 100]\n",
        "\n",
        "train_batch_sizes = [64]\n",
        "percentages_supervised = [1, 10, 50, 100]\n",
        "\n",
        "test_batch_size = 8\n",
        "fcs = [250,125,50]\n",
        "resnet_epochs = 150\n",
        "fine_tuned_epochs = 100\n",
        "ft_aug = True\n",
        "pre_trained = False\n",
        "tau = 0.05\n",
        "res_s = 18\n",
        "\n",
        "optim_s = 'SGD'\n",
        "dataset_n = 'FAIR1M'\n",
        "model_folder = '/content/drive/MyDrive/Colab Notebooks/SCHOOL/Advanced Computer Vision/Final Project/Model_Results/'\n",
        "root_folder = '/content/FAIR1M-no-other_val_20_test_20_max_2500/'\n",
        "\n",
        "mapping, inverse_mapping = get_mapping(root_folder)\n",
        "transform = T.Compose([T.RandomApply([T.ColorJitter(0.8, 0.8, 0.8, 0.2)], p=0.8), \n",
        "                      T.RandomGrayscale(p=0.2),\n",
        "                      T.RandomHorizontalFlip(p=0.3),\n",
        "                      T.RandomVerticalFlip(p=0.3),\n",
        "                      T.RandomRotation(10),\n",
        "                      T.RandomResizedCrop(224)\n",
        "                      ])\n",
        "transform_name = 't6'"
      ],
      "metadata": {
        "id": "vhp_H-D2jMoD"
      },
      "execution_count": null,
      "outputs": []
    },
    {
      "cell_type": "code",
      "source": [
        "for train_batch_size in train_batch_sizes:\n",
        "    for percentage_supervised in percentages_supervised:\n",
        "        print(f'sup {percentage_supervised}, batch {train_batch_size}')\n",
        "        args = [ft_aug, train_batch_size, test_batch_size, percentage_supervised, pre_trained, fcs, tau, resnet_epochs, fine_tuned_epochs, res_s, optim_s, dataset_n, model_folder, root_folder, mapping, inverse_mapping, transform, transform_name]\n",
        "        test_trained_model(args, save_fig = True)"
      ],
      "metadata": {
        "colab": {
          "base_uri": "https://localhost:8080/"
        },
        "id": "Za3URHC8iX2Z",
        "outputId": "f7f62c07-0f49-418d-fddf-e02704b4e125"
      },
      "execution_count": null,
      "outputs": [
        {
          "output_type": "stream",
          "name": "stdout",
          "text": [
            "sup 1, batch 64\n",
            "Model Accuracy: 0.4161\n",
            "sup 10, batch 64\n",
            "Model Accuracy: 0.4884\n",
            "sup 50, batch 64\n",
            "Model Accuracy: 0.5338\n",
            "sup 100, batch 64\n",
            "Model Accuracy: 0.5225\n"
          ]
        }
      ]
    },
    {
      "cell_type": "markdown",
      "source": [
        "### ResNet"
      ],
      "metadata": {
        "id": "LptLclKVi4CL"
      }
    },
    {
      "cell_type": "code",
      "source": [
        "root_folder = '/content/FAIR1M-no-other_val_20_test_20_max_2500'\n",
        "data_tag = 'FAIR1M'\n",
        "# percentages_supervised = [1,10,50,100]\n",
        "# train_batch_sizes = [32,64,128,256]\n",
        "percentages_supervised = [100]\n",
        "train_batch_sizes = [128]\n",
        "ft_aug = True\n",
        "pre_trained = False\n",
        "test_batch_size = 8\n",
        "fcs = [250,125,50]\n",
        "num_epochs = 150\n",
        "optim_tag = 'SGD'"
      ],
      "metadata": {
        "id": "YPlnl6zki5Yp"
      },
      "execution_count": null,
      "outputs": []
    },
    {
      "cell_type": "code",
      "source": [
        "for train_batch_size in train_batch_sizes:\n",
        "    for percentage_supervised in percentages_supervised:\n",
        "        print(f'sup: {percentage_supervised}, batch: {train_batch_size}')\n",
        "        initial_args = root_folder, data_tag, percentage_supervised, ft_aug, pre_trained, test_batch_size, train_batch_size, fcs, num_epochs, optim_tag \n",
        "        args = prep_final_test(initial_args, test_folder = 'test')\n",
        "        test_acc = final_test(args)"
      ],
      "metadata": {
        "colab": {
          "base_uri": "https://localhost:8080/"
        },
        "id": "9aVPVAzojI3J",
        "outputId": "f20b9d7d-48f8-4271-dde6-d3f94de0d238"
      },
      "execution_count": null,
      "outputs": [
        {
          "output_type": "stream",
          "name": "stdout",
          "text": [
            "sup: 100, batch: 128\n",
            "Loading 110 epochs of training, with current best accuracy of 0.644226\n"
          ]
        },
        {
          "output_type": "stream",
          "name": "stderr",
          "text": [
            "Final Test: 100%|██████████| 1285/1285 [00:40<00:00, 31.99it/s]"
          ]
        },
        {
          "output_type": "stream",
          "name": "stdout",
          "text": [
            "Test accuracy: 0.6442\n"
          ]
        },
        {
          "output_type": "stream",
          "name": "stderr",
          "text": [
            "\n"
          ]
        }
      ]
    },
    {
      "cell_type": "markdown",
      "source": [
        "# EDA"
      ],
      "metadata": {
        "id": "4IwlLA-x10jN"
      }
    },
    {
      "cell_type": "code",
      "source": [
        "from collections import Counter\n",
        "import numpy as np"
      ],
      "metadata": {
        "id": "BXR-OUqd2Qrk"
      },
      "execution_count": null,
      "outputs": []
    },
    {
      "cell_type": "markdown",
      "source": [
        "### DOTA"
      ],
      "metadata": {
        "id": "_05ON-wiFl7w"
      }
    },
    {
      "cell_type": "code",
      "source": [
        "mod_folder = '/content/content/DOTA_val_20_test_20_max_2500/train/'"
      ],
      "metadata": {
        "id": "8zhalvrm2cDj"
      },
      "execution_count": null,
      "outputs": []
    },
    {
      "cell_type": "code",
      "source": [
        "all_files = os.listdir(mod_folder)\n",
        "all_classes = [a.split('_')[0] for a in all_files]\n",
        "c = dict(Counter(all_classes))\n",
        "avg = np.average(list(c.values()))\n",
        "min = np.min(list(c.values()))\n",
        "max = np.max(list(c.values()))\n",
        "avg, min, max"
      ],
      "metadata": {
        "id": "Fgbkuz0SFr2H"
      },
      "execution_count": null,
      "outputs": []
    },
    {
      "cell_type": "markdown",
      "source": [
        "#### FAIR1M"
      ],
      "metadata": {
        "id": "1mp8JQ3ZFf-k"
      }
    },
    {
      "cell_type": "code",
      "source": [
        "mod_folder = '/content/FAIR1M-no-other_val_20_test_20_max_2500/train/'"
      ],
      "metadata": {
        "id": "gDz3LPtXvrdm"
      },
      "execution_count": null,
      "outputs": []
    },
    {
      "cell_type": "code",
      "source": [
        "all_files = os.listdir(mod_folder)\n",
        "all_classes = [a.split('_')[0] for a in all_files]\n",
        "c = dict(Counter(all_classes))\n",
        "avg = np.average(list(c.values()))\n",
        "min = np.min(list(c.values()))\n",
        "max = np.max(list(c.values()))\n",
        "avg, min, max"
      ],
      "metadata": {
        "id": "KAQbftXE15Me"
      },
      "execution_count": null,
      "outputs": []
    }
  ]
}