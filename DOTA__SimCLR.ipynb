{
  "cells": [
    {
      "cell_type": "markdown",
      "metadata": {
        "id": "view-in-github",
        "colab_type": "text"
      },
      "source": [
        "<a href=\"https://colab.research.google.com/github/lawsonk16/IGARSS22/blob/main/DOTA__SimCLR.ipynb\" target=\"_parent\"><img src=\"https://colab.research.google.com/assets/colab-badge.svg\" alt=\"Open In Colab\"/></a>"
      ]
    },
    {
      "cell_type": "markdown",
      "metadata": {
        "id": "VWDQevkUoglM"
      },
      "source": [
        "### Step 1: Import Data Files"
      ]
    },
    {
      "cell_type": "code",
      "execution_count": 1,
      "metadata": {
        "colab": {
          "base_uri": "https://localhost:8080/"
        },
        "id": "VJsighFC-DlJ",
        "outputId": "ec8a62d3-5116-40a0-96a5-170c345cc8e0"
      },
      "outputs": [
        {
          "output_type": "stream",
          "name": "stdout",
          "text": [
            "Mounted at /content/drive\n"
          ]
        }
      ],
      "source": [
        "from google.colab import drive\n",
        "drive.mount('/content/drive')"
      ]
    },
    {
      "cell_type": "code",
      "execution_count": 2,
      "metadata": {
        "id": "FzNo89b-o-Lv"
      },
      "outputs": [],
      "source": [
        "import sys\n",
        "sys.path.append('/content/drive/MyDrive/Colab Notebooks/scripts/')\n",
        "from simclr import *"
      ]
    },
    {
      "cell_type": "code",
      "execution_count": 3,
      "metadata": {
        "id": "EPCxvlN-ddMq"
      },
      "outputs": [],
      "source": [
        "! cp '/content/drive/MyDrive/Colab Notebooks/SCHOOL/Advanced Computer Vision/Final Project/data/DOTA_val_20_test_20_max_2500.zip' .\n",
        "! unzip -q 'DOTA_val_20_test_20_max_2500.zip'"
      ]
    },
    {
      "cell_type": "markdown",
      "metadata": {
        "id": "eqBnDDaP2bNJ"
      },
      "source": [
        "### Step 3: Train Model(s)"
      ]
    },
    {
      "cell_type": "code",
      "execution_count": 4,
      "metadata": {
        "id": "Gtrjkwcfoml4"
      },
      "outputs": [],
      "source": [
        "\n",
        "train_batch_sizes = [32, 64, 128, 256]\n",
        "test_batch_size = 8\n",
        "\n",
        "# define feature sizes of 3 layers in fully connected layer of resnet\n",
        "fcs = [250,125,50]\n",
        "\n",
        "# training epochs\n",
        "resnet_epochs = 150\n",
        "fine_tuned_epochs = 100\n",
        "\n",
        "ft_aug = True\n",
        "\n",
        "percentages_supervised = [1, 10, 50, 100]\n",
        "\n",
        "# pretrained resnet\n",
        "pre_trained = False\n",
        "\n",
        "# tau - for loss\n",
        "tau = 0.05\n",
        "\n",
        "#--------------------#\n",
        "\n",
        "res_s = 18\n",
        "optim_s = 'SGD'\n",
        "dataset_n = 'DOTA'\n",
        "\n",
        "model_folder = '/content/drive/MyDrive/Colab Notebooks/SCHOOL/Advanced Computer Vision/Final Project/Model_Results/'\n",
        "\n",
        "root_folder = '/content/content/DOTA_val_20_test_20_max_2500'\n",
        "\n",
        "# defining a mapping between class names and numbers\n",
        "mapping, inverse_mapping = get_mapping(root_folder)\n",
        "\n",
        "\n",
        "transform = T.Compose([T.RandomApply([T.ColorJitter(0.8, 0.8, 0.8, 0.2)], p=0.8), \n",
        "                      T.RandomGrayscale(p=0.2),\n",
        "                      T.RandomHorizontalFlip(p=0.3),\n",
        "                      T.RandomVerticalFlip(p=0.3),\n",
        "                      T.RandomRotation(10),\n",
        "                      T.RandomResizedCrop(224)\n",
        "                      ])\n",
        "transform_name = 't6'"
      ]
    },
    {
      "cell_type": "code",
      "execution_count": 5,
      "metadata": {
        "colab": {
          "base_uri": "https://localhost:8080/"
        },
        "id": "BavuabHr7Ad2",
        "outputId": "dd847418-9b2f-4c63-844b-52685c33b438"
      },
      "outputs": [
        {
          "output_type": "stream",
          "name": "stdout",
          "text": [
            "Experiment Completed\n",
            "Experiment Completed\n",
            "Experiment Completed\n",
            "Experiment Completed\n",
            "Experiment Completed\n",
            "Experiment Completed\n",
            "Experiment Completed\n",
            "Experiment Completed\n",
            "Experiment Completed\n",
            "Experiment Completed\n",
            "Experiment Completed\n",
            "Experiment Completed\n",
            "Experiment Completed\n",
            "Experiment Completed\n",
            "Experiment Completed\n",
            "Experiment Completed\n"
          ]
        }
      ],
      "source": [
        "for train_batch_size in train_batch_sizes:\n",
        "    for percentage_supervised in percentages_supervised:\n",
        "        # print(f'sup {percentage_supervised}, batch {train_batch_size}')\n",
        "        args = [ft_aug, train_batch_size, test_batch_size, percentage_supervised, pre_trained, fcs, tau, resnet_epochs, fine_tuned_epochs, res_s, optim_s, dataset_n, model_folder, root_folder, mapping, inverse_mapping, transform, transform_name]\n",
        "        mod_path = train_test_simclr(args)"
      ]
    }
  ],
  "metadata": {
    "accelerator": "GPU",
    "colab": {
      "collapsed_sections": [],
      "name": "DOTA _SimCLR.ipynb",
      "provenance": [],
      "background_execution": "on",
      "include_colab_link": true
    },
    "kernelspec": {
      "display_name": "Python 3",
      "name": "python3"
    },
    "language_info": {
      "name": "python"
    }
  },
  "nbformat": 4,
  "nbformat_minor": 0
}